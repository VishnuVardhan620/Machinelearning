{
 "cells": [
  {
   "cell_type": "code",
   "execution_count": 2,
   "metadata": {},
   "outputs": [],
   "source": [
    "import pandas as pd\n",
    "import numpy as np\n",
    "import matplotlib.pyplot as plt\n",
    "from sklearn import linear_model\n",
    "import statsmodels.api as sm"
   ]
  },
  {
   "cell_type": "code",
   "execution_count": 4,
   "metadata": {},
   "outputs": [],
   "source": [
    "DataML = pd.read_csv('/Users/Vishnu/Desktop/ThesisData/Final_Data.csv')"
   ]
  },
  {
   "cell_type": "code",
   "execution_count": null,
   "metadata": {},
   "outputs": [],
   "source": []
  },
  {
   "cell_type": "code",
   "execution_count": 7,
   "metadata": {},
   "outputs": [],
   "source": [
    "DataML1 =DataML[['Electrification','Internet users (per 100 people)','Personal computers (per 100 people)','Net enrolment rate, primary, both sexes (%)']].copy()"
   ]
  },
  {
   "cell_type": "code",
   "execution_count": 8,
   "metadata": {},
   "outputs": [],
   "source": [
    "DataML1 = DataML1[20:]\n"
   ]
  },
  {
   "cell_type": "code",
   "execution_count": 9,
   "metadata": {},
   "outputs": [],
   "source": [
    "DataML1.columns = ['Electrification','Internet','PC','Enrollement']"
   ]
  },
  {
   "cell_type": "code",
   "execution_count": 10,
   "metadata": {},
   "outputs": [],
   "source": [
    "DataML1 = DataML1.reset_index()\n",
    "DataML1 = DataML1.drop(['index'],axis =1)"
   ]
  },
  {
   "cell_type": "code",
   "execution_count": 11,
   "metadata": {},
   "outputs": [],
   "source": [
    "DataML1.to_csv('/Users/Vishnu/Desktop/ThesisData/ML_Data.csv')"
   ]
  },
  {
   "cell_type": "markdown",
   "metadata": {},
   "source": [
    "# Machine Learning \n"
   ]
  },
  {
   "cell_type": "code",
   "execution_count": 12,
   "metadata": {},
   "outputs": [],
   "source": [
    "reg = linear_model.LinearRegression()"
   ]
  },
  {
   "cell_type": "code",
   "execution_count": 13,
   "metadata": {},
   "outputs": [],
   "source": [
    "x = DataML1[['Electrification']]\n",
    "y = DataML1[['Enrollement']]\n"
   ]
  },
  {
   "cell_type": "code",
   "execution_count": 14,
   "metadata": {},
   "outputs": [
    {
     "data": {
      "text/plain": [
       "LinearRegression(copy_X=True, fit_intercept=True, n_jobs=1, normalize=False)"
      ]
     },
     "execution_count": 14,
     "metadata": {},
     "output_type": "execute_result"
    }
   ],
   "source": [
    "reg.fit(x,y)"
   ]
  },
  {
   "cell_type": "code",
   "execution_count": 16,
   "metadata": {},
   "outputs": [
    {
     "data": {
      "text/plain": [
       "Text(0,0.5,'Enrollement into Primary Schools (%)')"
      ]
     },
     "execution_count": 16,
     "metadata": {},
     "output_type": "execute_result"
    },
    {
     "data": {
      "image/png": "[encoded data removed]",
      "text/plain": [
       "<Figure size 432x288 with 1 Axes>"
      ]
     },
     "metadata": {
      "needs_background": "light"
     },
     "output_type": "display_data"
    }
   ],
   "source": [
    "plt.scatter(DataML1['Electrification'], DataML1['Enrollement'])\n",
    "plt.title('Electrification vs Enrollement')\n",
    "plt.xlabel('Electrification rate (%)')\n",
    "plt.ylabel('Enrollement into Primary Schools (%)')"
   ]
  },
  {
   "cell_type": "code",
   "execution_count": null,
   "metadata": {},
   "outputs": [],
   "source": []
  },
  {
   "cell_type": "code",
   "execution_count": 67,
   "metadata": {},
   "outputs": [
    {
     "name": "stdout",
     "output_type": "stream",
     "text": [
      "Intercept:  [46.82976678]\n",
      "Coefficients:  [[0.62058646]]\n",
      "R-Squared value:  0.8223826514699312\n"
     ]
    },
    {
     "data": {
      "image/png": "[encoded data removed]",
      "text/plain": [
       "<Figure size 432x288 with 1 Axes>"
      ]
     },
     "metadata": {
      "needs_background": "light"
     },
     "output_type": "display_data"
    }
   ],
   "source": [
    "print('Intercept: ', reg.intercept_)\n",
    "print('Coefficients: ', reg.coef_)\n",
    "print('R-Squared value: ', R2)\n",
    "model = sm.OLS(y,x).fit()\n",
    "\n",
    "line = reg.coef_*x+reg.intercept_\n",
    "plt.plot(x,y,'o', x, line)\n",
    "plt.title('Electrification vs Enrollement')\n",
    "plt.xlabel('Electrification')\n",
    "plt.ylabel('Enrollement into Primary Schools')\n",
    "plt.show()\n",
    "r = DataML1[['Electrification','Enrollement']]\n"
   ]
  },
  {
   "cell_type": "markdown",
   "metadata": {},
   "source": [
    "# R -squared"
   ]
  },
  {
   "cell_type": "code",
   "execution_count": 137,
   "metadata": {},
   "outputs": [
    {
     "data": {
      "text/html": [
       "<div>\n",
       "<style scoped>\n",
       "    .dataframe tbody tr th:only-of-type {\n",
       "        vertical-align: middle;\n",
       "    }\n",
       "\n",
       "    .dataframe tbody tr th {\n",
       "        vertical-align: top;\n",
       "    }\n",
       "\n",
       "    .dataframe thead th {\n",
       "        text-align: right;\n",
       "    }\n",
       "</style>\n",
       "<table border=\"1\" class=\"dataframe\">\n",
       "  <thead>\n",
       "    <tr style=\"text-align: right;\">\n",
       "      <th></th>\n",
       "      <th>Electrification</th>\n",
       "      <th>Internet</th>\n",
       "      <th>PC</th>\n",
       "      <th>Enrollement</th>\n",
       "    </tr>\n",
       "  </thead>\n",
       "  <tbody>\n",
       "    <tr>\n",
       "      <th>0</th>\n",
       "      <td>32.181431</td>\n",
       "      <td>0.000000</td>\n",
       "      <td>0.031074</td>\n",
       "      <td>58.902534</td>\n",
       "    </tr>\n",
       "    <tr>\n",
       "      <th>1</th>\n",
       "      <td>33.760102</td>\n",
       "      <td>0.000010</td>\n",
       "      <td>0.039488</td>\n",
       "      <td>60.989731</td>\n",
       "    </tr>\n",
       "    <tr>\n",
       "      <th>2</th>\n",
       "      <td>35.338774</td>\n",
       "      <td>0.000111</td>\n",
       "      <td>0.045367</td>\n",
       "      <td>63.076927</td>\n",
       "    </tr>\n",
       "    <tr>\n",
       "      <th>3</th>\n",
       "      <td>39.582534</td>\n",
       "      <td>0.000218</td>\n",
       "      <td>0.060796</td>\n",
       "      <td>65.164124</td>\n",
       "    </tr>\n",
       "    <tr>\n",
       "      <th>4</th>\n",
       "      <td>37.141731</td>\n",
       "      <td>0.001070</td>\n",
       "      <td>0.085247</td>\n",
       "      <td>67.251320</td>\n",
       "    </tr>\n",
       "    <tr>\n",
       "      <th>5</th>\n",
       "      <td>38.905041</td>\n",
       "      <td>0.026229</td>\n",
       "      <td>0.125549</td>\n",
       "      <td>69.338516</td>\n",
       "    </tr>\n",
       "    <tr>\n",
       "      <th>6</th>\n",
       "      <td>40.739313</td>\n",
       "      <td>0.046334</td>\n",
       "      <td>0.154139</td>\n",
       "      <td>71.425713</td>\n",
       "    </tr>\n",
       "    <tr>\n",
       "      <th>7</th>\n",
       "      <td>42.535294</td>\n",
       "      <td>0.070768</td>\n",
       "      <td>0.201926</td>\n",
       "      <td>73.512909</td>\n",
       "    </tr>\n",
       "    <tr>\n",
       "      <th>8</th>\n",
       "      <td>44.407323</td>\n",
       "      <td>0.139027</td>\n",
       "      <td>0.267925</td>\n",
       "      <td>75.600105</td>\n",
       "    </tr>\n",
       "    <tr>\n",
       "      <th>9</th>\n",
       "      <td>48.262991</td>\n",
       "      <td>0.273224</td>\n",
       "      <td>0.321947</td>\n",
       "      <td>77.687302</td>\n",
       "    </tr>\n",
       "    <tr>\n",
       "      <th>10</th>\n",
       "      <td>48.105785</td>\n",
       "      <td>0.527532</td>\n",
       "      <td>0.441348</td>\n",
       "      <td>79.774498</td>\n",
       "    </tr>\n",
       "    <tr>\n",
       "      <th>11</th>\n",
       "      <td>43.502878</td>\n",
       "      <td>0.660146</td>\n",
       "      <td>0.566304</td>\n",
       "      <td>79.626808</td>\n",
       "    </tr>\n",
       "    <tr>\n",
       "      <th>12</th>\n",
       "      <td>51.467469</td>\n",
       "      <td>1.537876</td>\n",
       "      <td>0.696569</td>\n",
       "      <td>79.229828</td>\n",
       "    </tr>\n",
       "    <tr>\n",
       "      <th>13</th>\n",
       "      <td>53.570503</td>\n",
       "      <td>1.686490</td>\n",
       "      <td>0.857114</td>\n",
       "      <td>83.801201</td>\n",
       "    </tr>\n",
       "    <tr>\n",
       "      <th>14</th>\n",
       "      <td>53.594654</td>\n",
       "      <td>1.976136</td>\n",
       "      <td>1.173212</td>\n",
       "      <td>85.289304</td>\n",
       "    </tr>\n",
       "    <tr>\n",
       "      <th>15</th>\n",
       "      <td>56.979182</td>\n",
       "      <td>2.388075</td>\n",
       "      <td>1.508237</td>\n",
       "      <td>87.976859</td>\n",
       "    </tr>\n",
       "    <tr>\n",
       "      <th>16</th>\n",
       "      <td>57.347807</td>\n",
       "      <td>2.805500</td>\n",
       "      <td>2.703515</td>\n",
       "      <td>89.989798</td>\n",
       "    </tr>\n",
       "    <tr>\n",
       "      <th>17</th>\n",
       "      <td>60.394735</td>\n",
       "      <td>3.950000</td>\n",
       "      <td>3.192145</td>\n",
       "      <td>91.291718</td>\n",
       "    </tr>\n",
       "    <tr>\n",
       "      <th>18</th>\n",
       "      <td>62.127311</td>\n",
       "      <td>4.380000</td>\n",
       "      <td>3.143702</td>\n",
       "      <td>91.009270</td>\n",
       "    </tr>\n",
       "    <tr>\n",
       "      <th>19</th>\n",
       "      <td>65.691428</td>\n",
       "      <td>5.120000</td>\n",
       "      <td>3.532901</td>\n",
       "      <td>90.754677</td>\n",
       "    </tr>\n",
       "    <tr>\n",
       "      <th>20</th>\n",
       "      <td>68.392998</td>\n",
       "      <td>7.500000</td>\n",
       "      <td>3.922101</td>\n",
       "      <td>91.023903</td>\n",
       "    </tr>\n",
       "    <tr>\n",
       "      <th>21</th>\n",
       "      <td>66.095926</td>\n",
       "      <td>10.070000</td>\n",
       "      <td>4.311300</td>\n",
       "      <td>90.414757</td>\n",
       "    </tr>\n",
       "    <tr>\n",
       "      <th>22</th>\n",
       "      <td>72.362747</td>\n",
       "      <td>12.580061</td>\n",
       "      <td>4.700499</td>\n",
       "      <td>91.568588</td>\n",
       "    </tr>\n",
       "    <tr>\n",
       "      <th>23</th>\n",
       "      <td>73.552788</td>\n",
       "      <td>15.100000</td>\n",
       "      <td>5.089698</td>\n",
       "      <td>92.258461</td>\n",
       "    </tr>\n",
       "    <tr>\n",
       "      <th>24</th>\n",
       "      <td>77.116407</td>\n",
       "      <td>21.000000</td>\n",
       "      <td>5.478898</td>\n",
       "      <td>92.530804</td>\n",
       "    </tr>\n",
       "    <tr>\n",
       "      <th>25</th>\n",
       "      <td>83.366545</td>\n",
       "      <td>26.000000</td>\n",
       "      <td>5.868097</td>\n",
       "      <td>93.016554</td>\n",
       "    </tr>\n",
       "    <tr>\n",
       "      <th>26</th>\n",
       "      <td>85.214284</td>\n",
       "      <td>29.547163</td>\n",
       "      <td>6.257296</td>\n",
       "      <td>93.502305</td>\n",
       "    </tr>\n",
       "    <tr>\n",
       "      <th>27</th>\n",
       "      <td>89.306555</td>\n",
       "      <td>35.997898</td>\n",
       "      <td>6.646495</td>\n",
       "      <td>93.988055</td>\n",
       "    </tr>\n",
       "  </tbody>\n",
       "</table>\n",
       "</div>"
      ],
      "text/plain": [
       "    Electrification   Internet        PC  Enrollement\n",
       "0         32.181431   0.000000  0.031074    58.902534\n",
       "1         33.760102   0.000010  0.039488    60.989731\n",
       "2         35.338774   0.000111  0.045367    63.076927\n",
       "3         39.582534   0.000218  0.060796    65.164124\n",
       "4         37.141731   0.001070  0.085247    67.251320\n",
       "5         38.905041   0.026229  0.125549    69.338516\n",
       "6         40.739313   0.046334  0.154139    71.425713\n",
       "7         42.535294   0.070768  0.201926    73.512909\n",
       "8         44.407323   0.139027  0.267925    75.600105\n",
       "9         48.262991   0.273224  0.321947    77.687302\n",
       "10        48.105785   0.527532  0.441348    79.774498\n",
       "11        43.502878   0.660146  0.566304    79.626808\n",
       "12        51.467469   1.537876  0.696569    79.229828\n",
       "13        53.570503   1.686490  0.857114    83.801201\n",
       "14        53.594654   1.976136  1.173212    85.289304\n",
       "15        56.979182   2.388075  1.508237    87.976859\n",
       "16        57.347807   2.805500  2.703515    89.989798\n",
       "17        60.394735   3.950000  3.192145    91.291718\n",
       "18        62.127311   4.380000  3.143702    91.009270\n",
       "19        65.691428   5.120000  3.532901    90.754677\n",
       "20        68.392998   7.500000  3.922101    91.023903\n",
       "21        66.095926  10.070000  4.311300    90.414757\n",
       "22        72.362747  12.580061  4.700499    91.568588\n",
       "23        73.552788  15.100000  5.089698    92.258461\n",
       "24        77.116407  21.000000  5.478898    92.530804\n",
       "25        83.366545  26.000000  5.868097    93.016554\n",
       "26        85.214284  29.547163  6.257296    93.502305\n",
       "27        89.306555  35.997898  6.646495    93.988055"
      ]
     },
     "execution_count": 137,
     "metadata": {},
     "output_type": "execute_result"
    }
   ],
   "source": [
    "DataML1"
   ]
  },
  {
   "cell_type": "code",
   "execution_count": 64,
   "metadata": {},
   "outputs": [],
   "source": [
    "r = DataML1[['Electrification','Enrollement']]\n",
    "mean = np.mean(r['Enrollement'])\n",
    "\n"
   ]
  },
  {
   "cell_type": "code",
   "execution_count": 65,
   "metadata": {},
   "outputs": [
    {
     "name": "stderr",
     "output_type": "stream",
     "text": [
      "/anaconda3/lib/python3.7/site-packages/ipykernel_launcher.py:1: SettingWithCopyWarning: \n",
      "A value is trying to be set on a copy of a slice from a DataFrame.\n",
      "Try using .loc[row_indexer,col_indexer] = value instead\n",
      "\n",
      "See the caveats in the documentation: http://pandas.pydata.org/pandas-docs/stable/indexing.html#indexing-view-versus-copy\n",
      "  \"\"\"Entry point for launching an IPython kernel.\n"
     ]
    }
   ],
   "source": [
    "r['mean']= mean\n"
   ]
  },
  {
   "cell_type": "code",
   "execution_count": 66,
   "metadata": {},
   "outputs": [
    {
     "data": {
      "text/plain": [
       "0.8223826514699312"
      ]
     },
     "execution_count": 66,
     "metadata": {},
     "output_type": "execute_result"
    }
   ],
   "source": [
    "r['y-mean'] = (r['Enrollement'] - r['mean'])**2\n",
    "\n",
    "expe = []\n",
    "l = list(r['Electrification'])\n",
    "for i in l:\n",
    "    \n",
    "    k = 0.62 * i + 46.82\n",
    "    expe.append(k)\n",
    "    \n",
    "r['expe'] = np.array(expe)\n",
    "\n",
    "r['y-exp'] = (r['expe'] - r['mean'])**2\n",
    "expsum = np.sum(r['y-exp'])\n",
    "meansum = np.sum(r['y-mean'])\n",
    "\n",
    "R2 = expsum/meansum\n",
    "R2"
   ]
  },
  {
   "cell_type": "markdown",
   "metadata": {},
   "source": [
    "# Non-Linear Regression"
   ]
  },
  {
   "cell_type": "code",
   "execution_count": 161,
   "metadata": {},
   "outputs": [],
   "source": []
  },
  {
   "cell_type": "code",
   "execution_count": 138,
   "metadata": {},
   "outputs": [],
   "source": [
    "DataML2 = DataML1[['Electrification','Enrollement']]"
   ]
  },
  {
   "cell_type": "code",
   "execution_count": 139,
   "metadata": {},
   "outputs": [
    {
     "name": "stderr",
     "output_type": "stream",
     "text": [
      "/anaconda3/lib/python3.7/site-packages/ipykernel_launcher.py:1: SettingWithCopyWarning: \n",
      "A value is trying to be set on a copy of a slice from a DataFrame.\n",
      "Try using .loc[row_indexer,col_indexer] = value instead\n",
      "\n",
      "See the caveats in the documentation: http://pandas.pydata.org/pandas-docs/stable/indexing.html#indexing-view-versus-copy\n",
      "  \"\"\"Entry point for launching an IPython kernel.\n"
     ]
    }
   ],
   "source": [
    "DataML2['E^2'] = DataML2['Electrification'] **2"
   ]
  },
  {
   "cell_type": "code",
   "execution_count": 180,
   "metadata": {},
   "outputs": [],
   "source": [
    "DtML2 = pd.read_csv('/Users/Vishnu/Desktop/ThesisData/DataML3.csv')"
   ]
  },
  {
   "cell_type": "code",
   "execution_count": 181,
   "metadata": {},
   "outputs": [],
   "source": [
    "i = DtML2[['Electrification','E^2']]\n",
    "d = DtML2[['Enrollement']]"
   ]
  },
  {
   "cell_type": "code",
   "execution_count": null,
   "metadata": {},
   "outputs": [],
   "source": []
  },
  {
   "cell_type": "code",
   "execution_count": 182,
   "metadata": {},
   "outputs": [
    {
     "data": {
      "text/plain": [
       "LinearRegression(copy_X=True, fit_intercept=True, n_jobs=1, normalize=False)"
      ]
     },
     "execution_count": 182,
     "metadata": {},
     "output_type": "execute_result"
    }
   ],
   "source": [
    "reg3 = linear_model.LinearRegression()\n",
    "reg3.fit(i,d)"
   ]
  },
  {
   "cell_type": "code",
   "execution_count": 183,
   "metadata": {},
   "outputs": [
    {
     "name": "stdout",
     "output_type": "stream",
     "text": [
      "1.7482508379681292+2.25283331445974x1-0.013568275435015991x2\n"
     ]
    }
   ],
   "source": [
    "print(f\"{reg3.intercept_[0]}+{reg3.coef_[0][0]}x1{reg3.coef_[0][1]}x2\")"
   ]
  },
  {
   "cell_type": "code",
   "execution_count": null,
   "metadata": {},
   "outputs": [],
   "source": []
  },
  {
   "cell_type": "code",
   "execution_count": 184,
   "metadata": {
    "scrolled": true
   },
   "outputs": [
    {
     "data": {
      "image/png": "[encoded data removed]",
      "text/plain": [
       "<Figure size 432x288 with 1 Axes>"
      ]
     },
     "metadata": {
      "needs_background": "light"
     },
     "output_type": "display_data"
    }
   ],
   "source": [
    "a = DtML2['Electrification']\n",
    "b = DtML2['Enrollement']\n",
    "line = 2.25*i['Electrification']-0.0135*i['E^2']+1.748\n",
    "plt.plot(a,b,'o',a, line)\n",
    "plt.title('Electrification vs Enrollement')\n",
    "plt.xlabel('Electrification')\n",
    "plt.ylabel('Enrollement into Primary Schools')\n",
    "plt.show()"
   ]
  },
  {
   "cell_type": "code",
   "execution_count": 127,
   "metadata": {},
   "outputs": [
    {
     "data": {
      "text/html": [
       "<div>\n",
       "<style scoped>\n",
       "    .dataframe tbody tr th:only-of-type {\n",
       "        vertical-align: middle;\n",
       "    }\n",
       "\n",
       "    .dataframe tbody tr th {\n",
       "        vertical-align: top;\n",
       "    }\n",
       "\n",
       "    .dataframe thead th {\n",
       "        text-align: right;\n",
       "    }\n",
       "</style>\n",
       "<table border=\"1\" class=\"dataframe\">\n",
       "  <thead>\n",
       "    <tr style=\"text-align: right;\">\n",
       "      <th></th>\n",
       "      <th>Electrification</th>\n",
       "    </tr>\n",
       "  </thead>\n",
       "  <tbody>\n",
       "    <tr>\n",
       "      <th>0</th>\n",
       "      <td>32.181431</td>\n",
       "    </tr>\n",
       "    <tr>\n",
       "      <th>1</th>\n",
       "      <td>33.760102</td>\n",
       "    </tr>\n",
       "    <tr>\n",
       "      <th>2</th>\n",
       "      <td>35.338774</td>\n",
       "    </tr>\n",
       "    <tr>\n",
       "      <th>3</th>\n",
       "      <td>39.582534</td>\n",
       "    </tr>\n",
       "    <tr>\n",
       "      <th>4</th>\n",
       "      <td>37.141731</td>\n",
       "    </tr>\n",
       "    <tr>\n",
       "      <th>5</th>\n",
       "      <td>38.905041</td>\n",
       "    </tr>\n",
       "    <tr>\n",
       "      <th>6</th>\n",
       "      <td>40.739313</td>\n",
       "    </tr>\n",
       "    <tr>\n",
       "      <th>7</th>\n",
       "      <td>42.535294</td>\n",
       "    </tr>\n",
       "    <tr>\n",
       "      <th>8</th>\n",
       "      <td>44.407323</td>\n",
       "    </tr>\n",
       "    <tr>\n",
       "      <th>9</th>\n",
       "      <td>48.262991</td>\n",
       "    </tr>\n",
       "    <tr>\n",
       "      <th>10</th>\n",
       "      <td>48.105785</td>\n",
       "    </tr>\n",
       "    <tr>\n",
       "      <th>11</th>\n",
       "      <td>43.502878</td>\n",
       "    </tr>\n",
       "    <tr>\n",
       "      <th>12</th>\n",
       "      <td>51.467469</td>\n",
       "    </tr>\n",
       "    <tr>\n",
       "      <th>13</th>\n",
       "      <td>53.570503</td>\n",
       "    </tr>\n",
       "    <tr>\n",
       "      <th>14</th>\n",
       "      <td>53.594654</td>\n",
       "    </tr>\n",
       "    <tr>\n",
       "      <th>15</th>\n",
       "      <td>56.979182</td>\n",
       "    </tr>\n",
       "    <tr>\n",
       "      <th>16</th>\n",
       "      <td>57.347807</td>\n",
       "    </tr>\n",
       "    <tr>\n",
       "      <th>17</th>\n",
       "      <td>60.394735</td>\n",
       "    </tr>\n",
       "    <tr>\n",
       "      <th>18</th>\n",
       "      <td>62.127311</td>\n",
       "    </tr>\n",
       "    <tr>\n",
       "      <th>19</th>\n",
       "      <td>65.691428</td>\n",
       "    </tr>\n",
       "    <tr>\n",
       "      <th>20</th>\n",
       "      <td>68.392998</td>\n",
       "    </tr>\n",
       "    <tr>\n",
       "      <th>21</th>\n",
       "      <td>66.095926</td>\n",
       "    </tr>\n",
       "    <tr>\n",
       "      <th>22</th>\n",
       "      <td>72.362747</td>\n",
       "    </tr>\n",
       "    <tr>\n",
       "      <th>23</th>\n",
       "      <td>73.552788</td>\n",
       "    </tr>\n",
       "    <tr>\n",
       "      <th>24</th>\n",
       "      <td>77.116407</td>\n",
       "    </tr>\n",
       "    <tr>\n",
       "      <th>25</th>\n",
       "      <td>83.366545</td>\n",
       "    </tr>\n",
       "    <tr>\n",
       "      <th>26</th>\n",
       "      <td>85.214284</td>\n",
       "    </tr>\n",
       "    <tr>\n",
       "      <th>27</th>\n",
       "      <td>89.306555</td>\n",
       "    </tr>\n",
       "  </tbody>\n",
       "</table>\n",
       "</div>"
      ],
      "text/plain": [
       "    Electrification\n",
       "0         32.181431\n",
       "1         33.760102\n",
       "2         35.338774\n",
       "3         39.582534\n",
       "4         37.141731\n",
       "5         38.905041\n",
       "6         40.739313\n",
       "7         42.535294\n",
       "8         44.407323\n",
       "9         48.262991\n",
       "10        48.105785\n",
       "11        43.502878\n",
       "12        51.467469\n",
       "13        53.570503\n",
       "14        53.594654\n",
       "15        56.979182\n",
       "16        57.347807\n",
       "17        60.394735\n",
       "18        62.127311\n",
       "19        65.691428\n",
       "20        68.392998\n",
       "21        66.095926\n",
       "22        72.362747\n",
       "23        73.552788\n",
       "24        77.116407\n",
       "25        83.366545\n",
       "26        85.214284\n",
       "27        89.306555"
      ]
     },
     "execution_count": 127,
     "metadata": {},
     "output_type": "execute_result"
    }
   ],
   "source": []
  },
  {
   "cell_type": "code",
   "execution_count": null,
   "metadata": {},
   "outputs": [],
   "source": []
  }
 ],
 "metadata": {
  "kernelspec": {
   "display_name": "Python 3",
   "language": "python",
   "name": "python3"
  },
  "language_info": {
   "codemirror_mode": {
    "name": "ipython",
    "version": 3
   },
   "file_extension": ".py",
   "mimetype": "text/x-python",
   "name": "python",
   "nbconvert_exporter": "python",
   "pygments_lexer": "ipython3",
   "version": "3.6.4"
  }
 },
 "nbformat": 4,
 "nbformat_minor": 2
}
